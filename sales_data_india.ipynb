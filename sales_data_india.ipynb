{
 "cells": [
  {
   "cell_type": "code",
   "execution_count": null,
   "id": "a9ee8708-823b-409a-bdd2-b113314d879b",
   "metadata": {},
   "outputs": [],
   "source": [
    "import numpy as np\n",
    "import pandas as pd\n",
    "import matplotlib.pyplot as plt\n",
    "import seaborn as sns\n"
   ]
  },
  {
   "cell_type": "code",
   "execution_count": null,
   "id": "1b3f001d-5566-4580-a778-4fa94ac15da8",
   "metadata": {},
   "outputs": [],
   "source": [
    "# Load the dataset\n",
    "file_path = \"indian_retailsales_data.csv\"\n",
    "data = pd.read_csv(file_path)\n",
    "\n",
    "# Display the first few rows\n",
    "print(data.head())\n"
   ]
  },
  {
   "cell_type": "code",
   "execution_count": null,
   "id": "12061351-6f77-4802-bffb-c373cfab69c3",
   "metadata": {},
   "outputs": [],
   "source": [
    "# Check for missing values\n",
    "print(data.isnull().sum())\n",
    "\n",
    "# Fill missing values if any\n",
    "data.fillna(0, inplace=True)\n",
    "\n",
    "# Convert 'Order Date' to datetime\n",
    "data['Order Date'] = pd.to_datetime(data['Order Date'])\n",
    "\n",
    "# Drop duplicates\n",
    "data.drop_duplicates(inplace=True)\n",
    "\n",
    "# Check data types\n",
    "print(data.dtypes)\n"
   ]
  },
  {
   "cell_type": "code",
   "execution_count": null,
   "id": "9c076036-afdb-478d-a6e0-0693078cb6ff",
   "metadata": {},
   "outputs": [],
   "source": [
    "region_sales = data.groupby('Region')['Sales'].sum().reset_index()\n",
    "print(region_sales)\n",
    "\n",
    "# Visualization\n",
    "plt.figure(figsize=(8, 6))\n",
    "sns.barplot(x='Region', y='Sales', data=region_sales)\n",
    "plt.title('Total Sales by Region')\n",
    "plt.show()\n"
   ]
  },
  {
   "cell_type": "code",
   "execution_count": null,
   "id": "7e00dce7-d368-4140-b95f-58f5c48c41d9",
   "metadata": {},
   "outputs": [],
   "source": [
    "data['Month'] = data['Order Date'].dt.to_period('M')\n",
    "monthly_sales = data.groupby('Month')['Sales'].sum().reset_index()\n",
    "\n",
    "# Visualization\n",
    "plt.figure(figsize=(10, 6))\n",
    "plt.plot(monthly_sales['Month'].astype(str), monthly_sales['Sales'], marker='o')\n",
    "plt.title('Monthly Sales Trend')\n",
    "plt.xticks(rotation=45)\n",
    "plt.show()\n"
   ]
  },
  {
   "cell_type": "code",
   "execution_count": null,
   "id": "9bba266f-505a-4ce5-9bdd-13bdfe6961ee",
   "metadata": {},
   "outputs": [],
   "source": [
    "# Select numerical columns\n",
    "corr_data = data[['Sales', 'Profit', 'Quantity', 'Discount']]\n",
    "plt.figure(figsize=(8, 6))\n",
    "sns.heatmap(corr_data.corr(), annot=True, cmap='coolwarm')\n",
    "plt.title('Correlation Heatmap')\n",
    "plt.show()\n"
   ]
  },
  {
   "cell_type": "code",
   "execution_count": null,
   "id": "f720c9d7-eb66-4f10-8b51-562a81d15e25",
   "metadata": {},
   "outputs": [],
   "source": [
    "from sklearn.decomposition import PCA\n",
    "from sklearn.preprocessing import StandardScaler\n",
    "\n",
    "# Select numerical features\n",
    "numerical_data = data[['Sales', 'Profit', 'Quantity', 'Discount']]\n",
    "\n",
    "# Standardize the data\n",
    "scaler = StandardScaler()\n",
    "scaled_data = scaler.fit_transform(numerical_data)\n",
    "\n",
    "# Apply PCA\n",
    "pca = PCA(n_components=2)  # Reduce to 2 components for visualization\n",
    "pca_data = pca.fit_transform(scaled_data)\n",
    "\n",
    "# Explained variance ratio\n",
    "print(\"Explained Variance Ratio:\", pca.explained_variance_ratio_)\n",
    "\n",
    "# Visualize the PCA result\n",
    "plt.scatter(pca_data[:, 0], pca_data[:, 1], alpha=0.7)\n",
    "plt.title('PCA - Reduced Dimensionality')\n",
    "plt.xlabel('Principal Component 1')\n",
    "plt.ylabel('Principal Component 2')\n",
    "plt.show()\n"
   ]
  },
  {
   "cell_type": "code",
   "execution_count": null,
   "id": "081d1916-1d8f-4e60-8497-600a886cd83d",
   "metadata": {},
   "outputs": [],
   "source": [
    "from sklearn.model_selection import train_test_split\n",
    "from sklearn.ensemble import RandomForestRegressor\n",
    "from sklearn.metrics import mean_squared_error, r2_score\n",
    "\n",
    "# Prepare data\n",
    "X = data[['Sales', 'Quantity', 'Discount']]  # Features\n",
    "y = data['Profit']  # Target\n",
    "\n",
    "# Handle missing values\n",
    "X.fillna(X.mean(), inplace=True)\n",
    "y.fillna(y.mean(), inplace=True)\n",
    "\n",
    "# Split into train and test sets\n",
    "X_train, X_test, y_train, y_test = train_test_split(X, y, test_size=0.2, random_state=42)\n",
    "\n",
    "# Train a Random Forest Regressor\n",
    "model = RandomForestRegressor(random_state=42)\n",
    "model.fit(X_train, y_train)\n",
    "\n",
    "# Predict and evaluate\n",
    "y_pred = model.predict(X_test)\n",
    "print(\"Mean Squared Error:\", mean_squared_error(y_test, y_pred))\n",
    "print(\"R² Score:\", r2_score(y_test, y_pred))\n"
   ]
  },
  {
   "cell_type": "code",
   "execution_count": null,
   "id": "d53e3035-b4cb-43e1-b776-293d2b891ef8",
   "metadata": {},
   "outputs": [],
   "source": [
    "# Calculate Recency, Frequency, and Monetary value\n",
    "today = data['Order Date'].max()\n",
    "rfm = data.groupby('Customer Segment').agg({\n",
    "    'Order Date': lambda x: (today - x.max()).days,  # Recency\n",
    "    'Sales': 'sum',                                 # Monetary\n",
    "    'Customer Segment': 'count'                    # Frequency\n",
    "}).rename(columns={'Order Date': 'Recency', 'Sales': 'Monetary', 'Customer Segment': 'Frequency'})\n",
    "\n",
    "print(rfm)\n"
   ]
  },
  {
   "cell_type": "code",
   "execution_count": null,
   "id": "442a7966-f722-4b69-8459-30f610a979f1",
   "metadata": {},
   "outputs": [],
   "source": [
    "product_sales = data.groupby('Product Category')['Sales'].sum().reset_index()\n",
    "product_profit = data.groupby('Product Category')['Profit'].sum().reset_index()\n",
    "\n",
    "# Merge for comparison\n",
    "product_analysis = pd.merge(product_sales, product_profit, on='Product Category')\n",
    "print(product_analysis)\n"
   ]
  },
  {
   "cell_type": "code",
   "execution_count": null,
   "id": "3fa67de8-0efa-43cf-83a0-d4ef209cbf92",
   "metadata": {},
   "outputs": [],
   "source": [
    "#A grouped bar chart comparing Sales and Profit across categories.\n",
    "category_analysis = data.groupby('Product Category')[['Sales', 'Profit']].sum().reset_index()\n",
    "category_analysis.plot(kind='bar', x='Product Category', figsize=(10, 6))\n",
    "plt.title('Sales and Profit by Product Category')\n",
    "plt.ylabel('Amount (INR)')\n",
    "plt.show()\n"
   ]
  },
  {
   "cell_type": "code",
   "execution_count": null,
   "id": "69baf6d9-90d1-40d9-a6c7-b8125cd1cca6",
   "metadata": {},
   "outputs": [],
   "source": [
    "\n",
    "#Top 10 Cities by Total Sales:\n",
    "top_cities = data.groupby('City')['Sales'].sum().nlargest(10).reset_index()\n",
    "sns.barplot(x='Sales', y='City', data=top_cities, palette='viridis')\n",
    "plt.title('Top 10 Cities by Sales')\n",
    "plt.show()\n"
   ]
  },
  {
   "cell_type": "code",
   "execution_count": null,
   "id": "64324f99-0869-4dbc-81f8-6cd9ac656682",
   "metadata": {},
   "outputs": [],
   "source": [
    "#Sales Contribution by Region:\n",
    "\n",
    "region_sales = data.groupby('Region')['Sales'].sum()\n",
    "region_sales.plot(kind='pie', autopct='%1.1f%%', figsize=(8, 8), startangle=90)\n",
    "plt.title('Sales Contribution by Region')\n",
    "plt.ylabel('')  # Remove default ylabel\n",
    "plt.show()\n"
   ]
  },
  {
   "cell_type": "code",
   "execution_count": null,
   "id": "b772fe3e-5ab9-4eaf-99be-249f6de02139",
   "metadata": {},
   "outputs": [],
   "source": []
  }
 ],
 "metadata": {
  "kernelspec": {
   "display_name": "Python 3 (ipykernel)",
   "language": "python",
   "name": "python3"
  },
  "language_info": {
   "codemirror_mode": {
    "name": "ipython",
    "version": 3
   },
   "file_extension": ".py",
   "mimetype": "text/x-python",
   "name": "python",
   "nbconvert_exporter": "python",
   "pygments_lexer": "ipython3",
   "version": "3.11.7"
  }
 },
 "nbformat": 4,
 "nbformat_minor": 5
}
